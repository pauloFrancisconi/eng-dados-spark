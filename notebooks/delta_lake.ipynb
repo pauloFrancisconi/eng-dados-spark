{
 "cells": [
  {
   "cell_type": "markdown",
   "id": "0dda6fee",
   "metadata": {},
   "source": [
    "# Delta Lake - Cidades Brasileiras\n",
    "\n",
    "Este notebook demonstra a criação, leitura e manipulação de uma tabela Delta usando o dataset `cidades_brasileiras.csv`."
   ]
  },
  {
   "cell_type": "code",
   "execution_count": 1,
   "id": "5134c223",
   "metadata": {},
   "outputs": [],
   "source": [
    "from pyspark.sql import SparkSession\n",
    "from pyspark.sql.types import StructType, StructField, StringType, DoubleType, IntegerType\n",
    "\n",
    "from delta import *\n",
    "\n",
    "import logging\n",
    "\n",
    "logging.getLogger(\"py4j\").setLevel(logging.DEBUG)"
   ]
  },
  {
   "cell_type": "code",
   "execution_count": 2,
   "id": "b5ff8034",
   "metadata": {},
   "outputs": [
    {
     "name": "stderr",
     "output_type": "stream",
     "text": [
      "25/04/24 11:37:12 WARN Utils: Your hostname, edsatc resolves to a loopback address: 127.0.1.1; using 10.0.2.15 instead (on interface enp0s3)\n",
      "25/04/24 11:37:12 WARN Utils: Set SPARK_LOCAL_IP if you need to bind to another address\n"
     ]
    },
    {
     "name": "stdout",
     "output_type": "stream",
     "text": [
      ":: loading settings :: url = jar:file:/home/ed/.cache/pypoetry/virtualenvs/eng-dados-spark-EC3tKTXJ-py3.11/lib/python3.11/site-packages/pyspark/jars/ivy-2.5.1.jar!/org/apache/ivy/core/settings/ivysettings.xml\n"
     ]
    },
    {
     "name": "stderr",
     "output_type": "stream",
     "text": [
      "Ivy Default Cache set to: /home/ed/.ivy2/cache\n",
      "The jars for the packages stored in: /home/ed/.ivy2/jars\n",
      "io.delta#delta-spark_2.12 added as a dependency\n",
      ":: resolving dependencies :: org.apache.spark#spark-submit-parent-89a93d06-a9e0-4e0c-bd50-0f4780420911;1.0\n",
      "\tconfs: [default]\n",
      "\tfound io.delta#delta-spark_2.12;3.2.0 in central\n",
      "\tfound io.delta#delta-storage;3.2.0 in central\n",
      "\tfound org.antlr#antlr4-runtime;4.9.3 in central\n",
      ":: resolution report :: resolve 298ms :: artifacts dl 16ms\n",
      "\t:: modules in use:\n",
      "\tio.delta#delta-spark_2.12;3.2.0 from central in [default]\n",
      "\tio.delta#delta-storage;3.2.0 from central in [default]\n",
      "\torg.antlr#antlr4-runtime;4.9.3 from central in [default]\n",
      "\t---------------------------------------------------------------------\n",
      "\t|                  |            modules            ||   artifacts   |\n",
      "\t|       conf       | number| search|dwnlded|evicted|| number|dwnlded|\n",
      "\t---------------------------------------------------------------------\n",
      "\t|      default     |   3   |   0   |   0   |   0   ||   3   |   0   |\n",
      "\t---------------------------------------------------------------------\n",
      ":: retrieving :: org.apache.spark#spark-submit-parent-89a93d06-a9e0-4e0c-bd50-0f4780420911\n",
      "\tconfs: [default]\n",
      "\t0 artifacts copied, 3 already retrieved (0kB/9ms)\n",
      "25/04/24 11:37:13 WARN NativeCodeLoader: Unable to load native-hadoop library for your platform... using builtin-java classes where applicable\n",
      "Setting default log level to \"WARN\".\n",
      "To adjust logging level use sc.setLogLevel(newLevel). For SparkR, use setLogLevel(newLevel).\n"
     ]
    }
   ],
   "source": [
    "spark = (\n",
    "    SparkSession\n",
    "    .builder\n",
    "    .master(\"local[*]\")\n",
    "    .config(\"spark.jars.packages\", \"io.delta:delta-spark_2.12:3.2.0\")\n",
    "    .config(\"spark.sql.extensions\", \"io.delta.sql.DeltaSparkSessionExtension\")\n",
    "    .config(\"spark.sql.catalog.spark_catalog\", \"org.apache.spark.sql.delta.catalog.DeltaCatalog\")\n",
    "    .getOrCreate()\n",
    ")"
   ]
  },
  {
   "cell_type": "code",
   "execution_count": 3,
   "id": "3b87a51c",
   "metadata": {},
   "outputs": [],
   "source": [
    "schema = StructType([\n",
    "    StructField(\"id\", IntegerType(), False),\n",
    "    StructField(\"cidade\", StringType(), True),\n",
    "    StructField(\"estado\", StringType(), True),\n",
    "    StructField(\"sigla\", StringType(), True),\n",
    "    StructField(\"ibge\", IntegerType(), True),\n",
    "    StructField(\"latitude\", DoubleType(), True),\n",
    "    StructField(\"longitude\", DoubleType(), True)\n",
    "])"
   ]
  },
  {
   "cell_type": "code",
   "execution_count": 4,
   "id": "d3e2b460",
   "metadata": {},
   "outputs": [
    {
     "name": "stderr",
     "output_type": "stream",
     "text": [
      "                                                                                \r"
     ]
    },
    {
     "name": "stdout",
     "output_type": "stream",
     "text": [
      "+---+-------------------+------------+-----+-------+----------+----------+\n",
      "| id|             cidade|      estado|sigla|   ibge|  latitude| longitude|\n",
      "+---+-------------------+------------+-----+-------+----------+----------+\n",
      "|  1|    ABADIA DE GOIÁS|       GOIÁS|   GO|5200050|-16.757264| -49.44122|\n",
      "|  2|ABADIA DOS DOURADOS|MINAS GERAIS|   MG|3100104|-18.491063|-47.406365|\n",
      "|  3|          ABADIÂNIA|       GOIÁS|   GO|5200100|-16.194723|-48.706812|\n",
      "|  4|             ABAETÉ|MINAS GERAIS|   MG|3100203|-19.156683|-45.448121|\n",
      "|  5|         ABAETETUBA|        PARÁ|   PA|1500107| -1.721828|-48.878843|\n",
      "+---+-------------------+------------+-----+-------+----------+----------+\n",
      "only showing top 5 rows\n",
      "\n"
     ]
    }
   ],
   "source": [
    "df = spark.read.csv(\"../data/cidades_brasileiras.csv\", header=True, schema=schema)\n",
    "df.show(5)"
   ]
  },
  {
   "cell_type": "code",
   "execution_count": 5,
   "id": "35cf8c9f",
   "metadata": {},
   "outputs": [
    {
     "name": "stderr",
     "output_type": "stream",
     "text": [
      "                                                                                \r"
     ]
    },
    {
     "data": {
      "text/plain": [
       "DataFrame[]"
      ]
     },
     "execution_count": 5,
     "metadata": {},
     "output_type": "execute_result"
    }
   ],
   "source": [
    "df.write.format(\"delta\").mode(\"overwrite\").saveAsTable(\"cidades_delta\")\n",
    "spark.sql(\"DROP TABLE IF EXISTS cidades_delta\")\n",
    "spark.sql(\"CREATE TABLE cidades_delta USING DELTA LOCATION '../output/delta/cidades'\")"
   ]
  },
  {
   "cell_type": "code",
   "execution_count": 6,
   "id": "f9ad335a",
   "metadata": {},
   "outputs": [
    {
     "name": "stdout",
     "output_type": "stream",
     "text": [
      "+---------+-------------+-----------+\n",
      "|namespace|    tableName|isTemporary|\n",
      "+---------+-------------+-----------+\n",
      "|  default|cidades_delta|      false|\n",
      "+---------+-------------+-----------+\n",
      "\n"
     ]
    }
   ],
   "source": [
    "spark.sql(\"SHOW TABLES\").show()\n",
    "\n"
   ]
  },
  {
   "cell_type": "code",
   "execution_count": 7,
   "id": "05352d14",
   "metadata": {},
   "outputs": [
    {
     "name": "stderr",
     "output_type": "stream",
     "text": [
      "25/04/24 11:37:57 WARN SparkStringUtils: Truncated the string representation of a plan since it was too large. This behavior can be adjusted by setting 'spark.sql.debug.maxToStringFields'.\n",
      "                                                                                \r"
     ]
    },
    {
     "name": "stdout",
     "output_type": "stream",
     "text": [
      "+---+-------------------+------------+-----+-------+----------+----------+\n",
      "| id|             cidade|      estado|sigla|   ibge|  latitude| longitude|\n",
      "+---+-------------------+------------+-----+-------+----------+----------+\n",
      "|  1|    ABADIA DE GOIÁS|       GOIÁS|   GO|5200050|-16.757264| -49.44122|\n",
      "|  2|ABADIA DOS DOURADOS|MINAS GERAIS|   MG|3100104|-18.491063|-47.406365|\n",
      "|  3|          ABADIÂNIA|       GOIÁS|   GO|5200100|-16.194723|-48.706812|\n",
      "|  4|             ABAETÉ|MINAS GERAIS|   MG|3100203|-19.156683|-45.448121|\n",
      "|  5|         ABAETETUBA|        PARÁ|   PA|1500107| -1.721828|-48.878843|\n",
      "+---+-------------------+------------+-----+-------+----------+----------+\n",
      "only showing top 5 rows\n",
      "\n"
     ]
    }
   ],
   "source": [
    "spark.sql(\"SELECT * FROM cidades_delta\").show(5)\n"
   ]
  },
  {
   "cell_type": "code",
   "execution_count": 8,
   "id": "d75a716a",
   "metadata": {},
   "outputs": [
    {
     "name": "stderr",
     "output_type": "stream",
     "text": [
      "                                                                                \r"
     ]
    },
    {
     "name": "stdout",
     "output_type": "stream",
     "text": [
      "+----+--------------+--------------+-----+-------+--------+---------+\n",
      "|  id|        cidade|        estado|sigla|   ibge|latitude|longitude|\n",
      "+----+--------------+--------------+-----+-------+--------+---------+\n",
      "|9999|Cidade Exemplo|Estado Exemplo|   EX|9999999|-10.1234| -50.5678|\n",
      "+----+--------------+--------------+-----+-------+--------+---------+\n",
      "\n"
     ]
    }
   ],
   "source": [
    "spark.sql(\"\"\"\n",
    "    INSERT INTO cidades_delta VALUES\n",
    "    (9999, 'Cidade Exemplo', 'Estado Exemplo', 'EX', 9999999, -10.1234, -50.5678)\n",
    "\"\"\")\n",
    "\n",
    "spark.sql(\"SELECT * FROM cidades_delta WHERE id = 9999\").show()\n"
   ]
  },
  {
   "cell_type": "code",
   "execution_count": 9,
   "id": "02244544",
   "metadata": {},
   "outputs": [
    {
     "name": "stderr",
     "output_type": "stream",
     "text": [
      "                                                                                \r"
     ]
    },
    {
     "name": "stdout",
     "output_type": "stream",
     "text": [
      "+----+--------------+--------------+-----+-------+--------+---------+\n",
      "|  id|        cidade|        estado|sigla|   ibge|latitude|longitude|\n",
      "+----+--------------+--------------+-----+-------+--------+---------+\n",
      "|9999|Cidade Exemplo|Estado Exemplo|   EX|9999999|   -11.0|    -51.0|\n",
      "+----+--------------+--------------+-----+-------+--------+---------+\n",
      "\n"
     ]
    }
   ],
   "source": [
    "spark.sql(\"\"\"\n",
    "    UPDATE cidades_delta\n",
    "    SET latitude = -11.0000, longitude = -51.0000\n",
    "    WHERE id = 9999\n",
    "\"\"\")\n",
    "\n",
    "spark.sql(\"SELECT * FROM cidades_delta WHERE id = 9999\").show()"
   ]
  },
  {
   "cell_type": "code",
   "execution_count": 10,
   "id": "9aa66433",
   "metadata": {},
   "outputs": [
    {
     "name": "stderr",
     "output_type": "stream",
     "text": [
      "[Stage 50:===================================================>    (46 + 4) / 50]\r"
     ]
    },
    {
     "name": "stdout",
     "output_type": "stream",
     "text": [
      "+---+------+------+-----+----+--------+---------+\n",
      "| id|cidade|estado|sigla|ibge|latitude|longitude|\n",
      "+---+------+------+-----+----+--------+---------+\n",
      "+---+------+------+-----+----+--------+---------+\n",
      "\n"
     ]
    },
    {
     "name": "stderr",
     "output_type": "stream",
     "text": [
      "                                                                                \r"
     ]
    }
   ],
   "source": [
    "spark.sql(\"\"\"\n",
    "    DELETE FROM cidades_delta\n",
    "    WHERE id = 9999\n",
    "\"\"\")\n",
    "\n",
    "spark.sql(\"SELECT * FROM cidades_delta WHERE id = 9999\").show()\n"
   ]
  },
  {
   "cell_type": "code",
   "execution_count": 11,
   "id": "c211a45c",
   "metadata": {},
   "outputs": [
    {
     "name": "stderr",
     "output_type": "stream",
     "text": [
      "[Stage 55:===========================================>            (39 + 4) / 50]\r"
     ]
    },
    {
     "name": "stdout",
     "output_type": "stream",
     "text": [
      "+---+-------------------+--------------+-----+-------+----------+----------+\n",
      "| id|             cidade|        estado|sigla|   ibge|  latitude| longitude|\n",
      "+---+-------------------+--------------+-----+-------+----------+----------+\n",
      "|  1|    ABADIA DE GOIÁS|         GOIÁS|   GO|5200050|-16.757264| -49.44122|\n",
      "|  2|ABADIA DOS DOURADOS|  MINAS GERAIS|   MG|3100104|-18.491063|-47.406365|\n",
      "|  3|          ABADIÂNIA|         GOIÁS|   GO|5200100|-16.194723|-48.706812|\n",
      "|  4|             ABAETÉ|  MINAS GERAIS|   MG|3100203|-19.156683|-45.448121|\n",
      "|  5|         ABAETETUBA|          PARÁ|   PA|1500107| -1.721828|-48.878843|\n",
      "|  6|            ABAIARA|         CEARÁ|   CE|2300101| -7.360781|-39.048788|\n",
      "|  7|             ABAÍRA|         BAHIA|   BA|2900108| -13.25033|-41.664034|\n",
      "|  8|              ABARÉ|         BAHIA|   BA|2900207| -8.723991|-39.113969|\n",
      "|  9|             ABATIÁ|        PARANÁ|   PR|4100103|-23.305297|-50.310253|\n",
      "| 10|      ABDON BATISTA|SANTA CATARINA|   SC|4200051|-27.612419|-51.022992|\n",
      "| 11|    ABEL FIGUEIREDO|          PARÁ|   PA|1500131| -4.962742|-48.393954|\n",
      "| 12|       ABELARDO LUZ|SANTA CATARINA|   SC|4200101|-26.570589|-52.328034|\n",
      "| 13|         ABRE CAMPO|  MINAS GERAIS|   MG|3100302|-20.298333|-42.476389|\n",
      "| 14|       ABREU E LIMA|    PERNAMBUCO|   PE|2600054| -7.900719|-34.898389|\n",
      "| 15|        ABREULÂNDIA|     TOCANTINS|   TO|1700251| -9.622153|-49.155834|\n",
      "| 16|            ACAIACA|  MINAS GERAIS|   MG|3100401|-20.362165|-43.144416|\n",
      "| 17|         AÇAILÂNDIA|      MARANHÃO|   MA|2100055| -4.951022|-47.495786|\n",
      "| 18|          ACAJUTIBA|         BAHIA|   BA|2900306|-11.660806|-38.018941|\n",
      "| 19|              ACARÁ|          PARÁ|   PA|1500206| -1.961388|-48.198704|\n",
      "| 20|            ACARAPE|         CEARÁ|   CE|2300150| -4.223787|-38.707166|\n",
      "+---+-------------------+--------------+-----+-------+----------+----------+\n",
      "only showing top 20 rows\n",
      "\n"
     ]
    },
    {
     "name": "stderr",
     "output_type": "stream",
     "text": [
      "                                                                                \r"
     ]
    }
   ],
   "source": [
    "df_final = spark.read.format(\"delta\").load(\"../output/delta/cidades\")\n",
    "df_final.show()"
   ]
  }
 ],
 "metadata": {
  "kernelspec": {
   "display_name": "eng-dados-spark-EC3tKTXJ-py3.11",
   "language": "python",
   "name": "python3"
  },
  "language_info": {
   "codemirror_mode": {
    "name": "ipython",
    "version": 3
   },
   "file_extension": ".py",
   "mimetype": "text/x-python",
   "name": "python",
   "nbconvert_exporter": "python",
   "pygments_lexer": "ipython3",
   "version": "3.11.12"
  }
 },
 "nbformat": 4,
 "nbformat_minor": 5
}
