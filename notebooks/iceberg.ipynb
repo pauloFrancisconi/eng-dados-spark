{
 "cells": [
  {
   "cell_type": "markdown",
   "id": "635f5d97",
   "metadata": {},
   "source": [
    "# Iceberg - Cidades Brasileiras\n",
    "\n",
    "Este notebook demonstra a criação, leitura e manipulação de uma tabela Iceberg usando o dataset `cidades_brasileiras.csv`."
   ]
  },
  {
   "cell_type": "code",
   "execution_count": null,
   "id": "29b2569a",
   "metadata": {},
   "outputs": [],
   "source": [
    "from pyspark.sql import SparkSession\n",
    "from pyspark.sql.types import StructType, StructField, IntegerType, StringType, DoubleType\n",
    "\n",
    "spark = SparkSession.builder     .appName(\"Iceberg - Cidades\")     .config(\"spark.sql.extensions\", \"org.apache.iceberg.spark.extensions.IcebergSparkSessionExtensions\")     .config(\"spark.sql.catalog.spark_catalog\", \"org.apache.iceberg.spark.SparkSessionCatalog\")     .config(\"spark.sql.catalog.spark_catalog.type\", \"hive\")     .getOrCreate()"
   ]
  },
  {
   "cell_type": "code",
   "execution_count": null,
   "id": "9bbbba9b",
   "metadata": {},
   "outputs": [],
   "source": [
    "schema = StructType([\n",
    "    StructField(\"id\", IntegerType(), False),\n",
    "    StructField(\"cidade\", StringType(), True),\n",
    "    StructField(\"estado\", StringType(), True),\n",
    "    StructField(\"sigla\", StringType(), True),\n",
    "    StructField(\"ibge\", IntegerType(), True),\n",
    "    StructField(\"latitude\", DoubleType(), True),\n",
    "    StructField(\"longitude\", DoubleType(), True)\n",
    "])"
   ]
  },
  {
   "cell_type": "code",
   "execution_count": null,
   "id": "0b24c651",
   "metadata": {},
   "outputs": [],
   "source": [
    "df = spark.read.csv(\"../data/cidades_brasileiras.csv\", header=True, schema=schema)\n",
    "df.show(5)"
   ]
  },
  {
   "cell_type": "code",
   "execution_count": null,
   "id": "e39e5ca5",
   "metadata": {},
   "outputs": [],
   "source": [
    "df.writeTo(\"spark_catalog.default.cidades_iceberg\").using(\"iceberg\").createOrReplace()"
   ]
  },
  {
   "cell_type": "code",
   "execution_count": null,
   "id": "7679f64c",
   "metadata": {},
   "outputs": [],
   "source": [
    "spark.sql(\"\"\"\n",
    "    INSERT INTO spark_catalog.default.cidades_iceberg VALUES\n",
    "    (9999, 'Nova Esperança', 'Paraná', 'PR', 9999999, -23.5, -51.5)\n",
    "\"\"\")"
   ]
  },
  {
   "cell_type": "code",
   "execution_count": null,
   "id": "2d0becfb",
   "metadata": {},
   "outputs": [],
   "source": [
    "spark.sql(\"UPDATE spark_catalog.default.cidades_iceberg SET cidade = 'Cidade Atualizada' WHERE id = 9999\")"
   ]
  },
  {
   "cell_type": "code",
   "execution_count": null,
   "id": "ba13ce49",
   "metadata": {},
   "outputs": [],
   "source": [
    "spark.sql(\"DELETE FROM spark_catalog.default.cidades_iceberg WHERE id = 9999\")"
   ]
  },
  {
   "cell_type": "code",
   "execution_count": null,
   "id": "fbfbd13a",
   "metadata": {},
   "outputs": [],
   "source": [
    "df_final = spark.sql(\"SELECT * FROM spark_catalog.default.cidades_iceberg\")\n",
    "df_final.show(5)"
   ]
  }
 ],
 "metadata": {},
 "nbformat": 4,
 "nbformat_minor": 5
}