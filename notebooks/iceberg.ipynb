{
 "cells": [
  {
   "cell_type": "markdown",
   "id": "635f5d97",
   "metadata": {},
   "source": [
    "# Iceberg - Cidades Brasileiras\n",
    "\n",
    "Este notebook demonstra a criação, leitura e manipulação de uma tabela Iceberg usando o dataset `cidades_brasileiras.csv`."
   ]
  },
  {
   "cell_type": "code",
   "execution_count": 1,
   "id": "29b2569a",
   "metadata": {},
   "outputs": [
    {
     "name": "stderr",
     "output_type": "stream",
     "text": [
      "25/04/24 12:03:15 WARN Utils: Your hostname, edsatc resolves to a loopback address: 127.0.1.1; using 10.0.2.15 instead (on interface enp0s3)\n",
      "25/04/24 12:03:15 WARN Utils: Set SPARK_LOCAL_IP if you need to bind to another address\n"
     ]
    },
    {
     "name": "stdout",
     "output_type": "stream",
     "text": [
      ":: loading settings :: url = jar:file:/home/ed/.cache/pypoetry/virtualenvs/eng-dados-spark-EC3tKTXJ-py3.11/lib/python3.11/site-packages/pyspark/jars/ivy-2.5.1.jar!/org/apache/ivy/core/settings/ivysettings.xml\n"
     ]
    },
    {
     "name": "stderr",
     "output_type": "stream",
     "text": [
      "Ivy Default Cache set to: /home/ed/.ivy2/cache\n",
      "The jars for the packages stored in: /home/ed/.ivy2/jars\n",
      "org.apache.iceberg#iceberg-spark-runtime-3.3_2.12 added as a dependency\n",
      ":: resolving dependencies :: org.apache.spark#spark-submit-parent-96565e0f-ce57-4d14-a900-f11453d7bc56;1.0\n",
      "\tconfs: [default]\n",
      "\tfound org.apache.iceberg#iceberg-spark-runtime-3.3_2.12;1.4.2 in central\n",
      ":: resolution report :: resolve 188ms :: artifacts dl 2ms\n",
      "\t:: modules in use:\n",
      "\torg.apache.iceberg#iceberg-spark-runtime-3.3_2.12;1.4.2 from central in [default]\n",
      "\t---------------------------------------------------------------------\n",
      "\t|                  |            modules            ||   artifacts   |\n",
      "\t|       conf       | number| search|dwnlded|evicted|| number|dwnlded|\n",
      "\t---------------------------------------------------------------------\n",
      "\t|      default     |   1   |   0   |   0   |   0   ||   1   |   0   |\n",
      "\t---------------------------------------------------------------------\n",
      ":: retrieving :: org.apache.spark#spark-submit-parent-96565e0f-ce57-4d14-a900-f11453d7bc56\n",
      "\tconfs: [default]\n",
      "\t0 artifacts copied, 1 already retrieved (0kB/5ms)\n",
      "25/04/24 12:03:16 WARN NativeCodeLoader: Unable to load native-hadoop library for your platform... using builtin-java classes where applicable\n",
      "Setting default log level to \"WARN\".\n",
      "To adjust logging level use sc.setLogLevel(newLevel). For SparkR, use setLogLevel(newLevel).\n",
      "25/04/24 12:03:18 WARN Utils: Service 'SparkUI' could not bind on port 4040. Attempting port 4041.\n"
     ]
    }
   ],
   "source": [
    "from pyspark.sql import SparkSession\n",
    "\n",
    "spark = (\n",
    "    SparkSession.builder\n",
    "    .appName(\"IcebergExample\")\n",
    "    .master(\"local[*]\")\n",
    "    .config(\"spark.jars.packages\", \"org.apache.iceberg:iceberg-spark-runtime-3.3_2.12:1.4.2\")\n",
    "    .config(\"spark.sql.catalog.local\", \"org.apache.iceberg.spark.SparkCatalog\")\n",
    "    .config(\"spark.sql.catalog.local.type\", \"hadoop\")\n",
    "    .config(\"spark.sql.catalog.local.warehouse\", \"./output/iceberg-warehouse\")  \n",
    "    .getOrCreate()\n",
    ")\n",
    "\n"
   ]
  },
  {
   "cell_type": "code",
   "execution_count": 2,
   "id": "9bbbba9b",
   "metadata": {},
   "outputs": [],
   "source": [
    "from pyspark.sql.types import StructType, StructField, StringType, IntegerType, DoubleType\n",
    "schema = StructType([\n",
    "    StructField(\"id\", IntegerType(), False),\n",
    "    StructField(\"cidade\", StringType(), True),\n",
    "    StructField(\"estado\", StringType(), True),\n",
    "    StructField(\"sigla\", StringType(), True),\n",
    "    StructField(\"ibge\", IntegerType(), True),\n",
    "    StructField(\"latitude\", DoubleType(), True),\n",
    "    StructField(\"longitude\", DoubleType(), True)\n",
    "])"
   ]
  },
  {
   "cell_type": "code",
   "execution_count": 3,
   "id": "0b24c651",
   "metadata": {},
   "outputs": [
    {
     "name": "stderr",
     "output_type": "stream",
     "text": [
      "                                                                                \r"
     ]
    },
    {
     "name": "stdout",
     "output_type": "stream",
     "text": [
      "+---+-------------------+------------+-----+-------+----------+----------+\n",
      "| id|             cidade|      estado|sigla|   ibge|  latitude| longitude|\n",
      "+---+-------------------+------------+-----+-------+----------+----------+\n",
      "|  1|    ABADIA DE GOIÁS|       GOIÁS|   GO|5200050|-16.757264| -49.44122|\n",
      "|  2|ABADIA DOS DOURADOS|MINAS GERAIS|   MG|3100104|-18.491063|-47.406365|\n",
      "|  3|          ABADIÂNIA|       GOIÁS|   GO|5200100|-16.194723|-48.706812|\n",
      "|  4|             ABAETÉ|MINAS GERAIS|   MG|3100203|-19.156683|-45.448121|\n",
      "|  5|         ABAETETUBA|        PARÁ|   PA|1500107| -1.721828|-48.878843|\n",
      "+---+-------------------+------------+-----+-------+----------+----------+\n",
      "only showing top 5 rows\n",
      "\n"
     ]
    }
   ],
   "source": [
    "df = spark.read.csv(\"../data/cidades_brasileiras.csv\", header=True, schema=schema)\n",
    "df.show(5)"
   ]
  },
  {
   "cell_type": "code",
   "execution_count": 4,
   "id": "e39e5ca5",
   "metadata": {},
   "outputs": [
    {
     "name": "stderr",
     "output_type": "stream",
     "text": [
      "                                                                                \r"
     ]
    }
   ],
   "source": [
    "df.writeTo(\"local.cidades_iceberg\").using(\"iceberg\").createOrReplace()\n"
   ]
  },
  {
   "cell_type": "code",
   "execution_count": 5,
   "id": "11f43049",
   "metadata": {},
   "outputs": [
    {
     "name": "stdout",
     "output_type": "stream",
     "text": [
      "+----------------+-----+\n",
      "|          cidade|sigla|\n",
      "+----------------+-----+\n",
      "|   ABDON BATISTA|   SC|\n",
      "|    ABELARDO LUZ|   SC|\n",
      "|      AGROLÂNDIA|   SC|\n",
      "|      AGRONÔMICA|   SC|\n",
      "|       ÁGUA DOCE|   SC|\n",
      "|ÁGUAS DE CHAPECÓ|   SC|\n",
      "|     ÁGUAS FRIAS|   SC|\n",
      "|    ÁGUAS MORNAS|   SC|\n",
      "|  ALFREDO WAGNER|   SC|\n",
      "| ALTO BELA VISTA|   SC|\n",
      "+----------------+-----+\n",
      "only showing top 10 rows\n",
      "\n"
     ]
    }
   ],
   "source": [
    "spark.sql('''SELECT cidade, sigla FROM local.cidades_iceberg WHERE sigla = 'SC';''').show(10)\n"
   ]
  },
  {
   "cell_type": "code",
   "execution_count": 13,
   "id": "47ea3dc4",
   "metadata": {},
   "outputs": [
    {
     "name": "stdout",
     "output_type": "stream",
     "text": [
      "+----+--------------+--------------+-----+-------+--------+---------+\n",
      "|  id|        cidade|        estado|sigla|   ibge|latitude|longitude|\n",
      "+----+--------------+--------------+-----+-------+--------+---------+\n",
      "|9999|Cidade Exemplo|Estado Exemplo|   EX|9999999|-10.1234| -50.5678|\n",
      "+----+--------------+--------------+-----+-------+--------+---------+\n",
      "\n"
     ]
    }
   ],
   "source": [
    "spark.sql(\"\"\"\n",
    "    INSERT INTO local.cidades_iceberg VALUES\n",
    "    (9999, 'Cidade Exemplo', 'Estado Exemplo', 'EX', 9999999, -10.1234, -50.5678)\n",
    "\"\"\")\n",
    "\n",
    "spark.sql(\"SELECT * FROM local.cidades_iceberg WHERE id = 9999\").show()\n"
   ]
  },
  {
   "cell_type": "code",
   "execution_count": 14,
   "id": "2d0becfb",
   "metadata": {},
   "outputs": [
    {
     "name": "stdout",
     "output_type": "stream",
     "text": [
      "+----+-----------------+--------------+-----+-------+--------+---------+\n",
      "|  id|           cidade|        estado|sigla|   ibge|latitude|longitude|\n",
      "+----+-----------------+--------------+-----+-------+--------+---------+\n",
      "|9999|Cidade Atualizada|Estado Exemplo|   EX|9999999|-10.1234| -50.5678|\n",
      "+----+-----------------+--------------+-----+-------+--------+---------+\n",
      "\n"
     ]
    }
   ],
   "source": [
    "spark.sql(\"UPDATE local.cidades_iceberg SET cidade = 'Cidade Atualizada' WHERE id = 9999\")\n",
    "spark.sql(\"SELECT * FROM local.cidades_iceberg WHERE id = 9999\").show()"
   ]
  },
  {
   "cell_type": "code",
   "execution_count": 15,
   "id": "ba13ce49",
   "metadata": {},
   "outputs": [
    {
     "name": "stdout",
     "output_type": "stream",
     "text": [
      "+---+------+------+-----+----+--------+---------+\n",
      "| id|cidade|estado|sigla|ibge|latitude|longitude|\n",
      "+---+------+------+-----+----+--------+---------+\n",
      "+---+------+------+-----+----+--------+---------+\n",
      "\n"
     ]
    }
   ],
   "source": [
    "spark.sql(\"DELETE FROM local.cidades_iceberg WHERE id = 9999\")\n",
    "spark.sql(\"SELECT * FROM local.cidades_iceberg WHERE id = 9999\").show()"
   ]
  },
  {
   "cell_type": "code",
   "execution_count": 16,
   "id": "fbfbd13a",
   "metadata": {},
   "outputs": [
    {
     "name": "stdout",
     "output_type": "stream",
     "text": [
      "+---+-------------------+------------+-----+-------+----------+----------+\n",
      "| id|             cidade|      estado|sigla|   ibge|  latitude| longitude|\n",
      "+---+-------------------+------------+-----+-------+----------+----------+\n",
      "|  1|    ABADIA DE GOIÁS|       GOIÁS|   GO|5200050|-16.757264| -49.44122|\n",
      "|  2|ABADIA DOS DOURADOS|MINAS GERAIS|   MG|3100104|-18.491063|-47.406365|\n",
      "|  3|          ABADIÂNIA|       GOIÁS|   GO|5200100|-16.194723|-48.706812|\n",
      "|  4|             ABAETÉ|MINAS GERAIS|   MG|3100203|-19.156683|-45.448121|\n",
      "|  5|         ABAETETUBA|        PARÁ|   PA|1500107| -1.721828|-48.878843|\n",
      "+---+-------------------+------------+-----+-------+----------+----------+\n",
      "only showing top 5 rows\n",
      "\n"
     ]
    }
   ],
   "source": [
    "df_final = spark.sql(\"SELECT * FROM local.cidades_iceberg\")\n",
    "df_final.show(5)"
   ]
  }
 ],
 "metadata": {
  "kernelspec": {
   "display_name": "eng-dados-spark-EC3tKTXJ-py3.11",
   "language": "python",
   "name": "python3"
  },
  "language_info": {
   "codemirror_mode": {
    "name": "ipython",
    "version": 3
   },
   "file_extension": ".py",
   "mimetype": "text/x-python",
   "name": "python",
   "nbconvert_exporter": "python",
   "pygments_lexer": "ipython3",
   "version": "3.11.12"
  }
 },
 "nbformat": 4,
 "nbformat_minor": 5
}
